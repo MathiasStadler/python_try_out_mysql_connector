{
 "cells": [
  {
   "cell_type": "markdown",
   "metadata": {},
   "source": [
    "# try out python mysql connector\n",
    "\n",
    "\n",
    "## [create venv](./project_path.md)\n",
    "## insert venv and install mysql_connector"
   ]
  },
  {
   "cell_type": "markdown",
   "metadata": {},
   "source": [
    "# install/update mysql-connector-python - show installed version\n",
    "\n",
    "\n",
    "```bash\n",
    "# nstall inside venv\n",
    ".venv> pip install mysql-connector-python\n",
    "\n",
    "# upgrade inside venv\n",
    ".venv> pip install mysql-connector-python --upgrade\n",
    "\n",
    "# Successfully installed mysql-connector-python-9.2.0 - you should see only one version\n",
    "\n",
    ".venv> pip list |grep  mysql-connector-python\n",
    "```"
   ]
  },
  {
   "cell_type": "markdown",
   "metadata": {},
   "source": [
    "# check is mysql-server already running - on os debian 12\n",
    "\n",
    "```bash\n",
    "systemctl status mysql\n",
    "\n",
    "```\n",
    "\n",
    "## start/stop mysql-server local - debian 12.10\n",
    "\n",
    "```bash\n",
    "cat /etc/debian_version\n",
    "# start\n",
    "systemctl start mysql\n",
    "# stop\n",
    "systemctl stop mysql\n",
    "# restart\n",
    "systemctl restart mysql\n",
    "```\n"
   ]
  },
  {
   "cell_type": "markdown",
   "metadata": {},
   "source": [
    "## ping mysql db via mysql_connector"
   ]
  },
  {
   "cell_type": "markdown",
   "metadata": {},
   "source": [
    "# python connect database - Hello World\n",
    "## [following example shows how to connect to the MySQL server](https://dev.mysql.com/doc/connector-python/en/connector-python-example-connecting.html)"
   ]
  },
  {
   "cell_type": "code",
   "execution_count": 6,
   "metadata": {},
   "outputs": [],
   "source": [
    "import mysql.connector\n",
    "\n",
    "cnx = mysql.connector.connect(user='root', password='root',\n",
    "                              host='127.0.0.1',\n",
    "                              database='mysql')\n",
    "cnx.close()"
   ]
  },
  {
   "cell_type": "markdown",
   "metadata": {},
   "source": [
    "# To handle connection errors - should display => Something is wrong with your user name or password"
   ]
  },
  {
   "cell_type": "code",
   "execution_count": 10,
   "metadata": {},
   "outputs": [
    {
     "name": "stdout",
     "output_type": "stream",
     "text": [
      "Something is wrong with your user name or password\n"
     ]
    }
   ],
   "source": [
    "import mysql.connector\n",
    "from mysql.connector import errorcode\n",
    "\n",
    "try:\n",
    "  cnx = mysql.connector.connect(user='root',\n",
    "                               # password='root',\n",
    "                                database='mysql')\n",
    "except mysql.connector.Error as err:\n",
    "  if err.errno == errorcode.ER_ACCESS_DENIED_ERROR:\n",
    "    print(\"Something is wrong with your user name or password\")\n",
    "  elif err.errno == errorcode.ER_BAD_DB_ERROR:\n",
    "    print(\"Database does not exist\")\n",
    "  else:\n",
    "    print(err)\n",
    "else:\n",
    "  cnx.close()"
   ]
  },
  {
   "cell_type": "markdown",
   "metadata": {},
   "source": [
    "# Defining connection arguments in a dictionary and using the ** operator is another option [FROM HERE](https://dev.mysql.com/doc/connector-python/en/connector-python-example-connecting.html)\n",
    "\n"
   ]
  },
  {
   "cell_type": "code",
   "execution_count": 13,
   "metadata": {},
   "outputs": [],
   "source": [
    "import mysql.connector\n",
    "\n",
    "config = {\n",
    "  'user': 'trapapa',\n",
    "  'password': 'trapapa',\n",
    "  'host': '127.0.0.1',\n",
    "  'database': 'portfolio',\n",
    "  'raise_on_warnings': True\n",
    "}\n",
    "\n",
    "cnx = mysql.connector.connect(**config)\n",
    "\n",
    "cnx.close()"
   ]
  },
  {
   "cell_type": "markdown",
   "metadata": {},
   "source": [
    "# Nice to know\n",
    "\n",
    "[Special content blocks](https://jupyterbook.org/en/stable/content/content-blocks.html)\n",
    "\n",
    "```{note}\n",
    "Here is a note!\n",
    "```"
   ]
  }
 ],
 "metadata": {
  "kernelspec": {
   "display_name": ".venv",
   "language": "python",
   "name": "python3"
  },
  "language_info": {
   "codemirror_mode": {
    "name": "ipython",
    "version": 3
   },
   "file_extension": ".py",
   "mimetype": "text/x-python",
   "name": "python",
   "nbconvert_exporter": "python",
   "pygments_lexer": "ipython3",
   "version": "3.11.2"
  }
 },
 "nbformat": 4,
 "nbformat_minor": 2
}
