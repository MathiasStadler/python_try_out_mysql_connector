{
 "cells": [
  {
   "cell_type": "markdown",
   "metadata": {},
   "source": [
    "# try out python mysql connector\n",
    "\n",
    "\n",
    "## [create venv](./project_path.md)\n",
    "## insert venv and install mysql_connector"
   ]
  },
  {
   "cell_type": "markdown",
   "metadata": {},
   "source": [
    "# install/update mysql-connector-python - show installed version\n",
    "\n",
    "\n",
    "```bash\n",
    "# nstall inside venv\n",
    ".venv> pip install mysql-connector-python\n",
    "\n",
    "# upgrade inside venv\n",
    ".venv> pip install mysql-connector-python --upgrade\n",
    "\n",
    "# Successfully installed mysql-connector-python-9.2.0 - you should see only one version\n",
    "\n",
    ".venv> pip list |grep  mysql-connector-python\n",
    "```"
   ]
  },
  {
   "cell_type": "markdown",
   "metadata": {},
   "source": [
    "# check is mysql-server already running - on os debian 12\n",
    "\n",
    "```bash\n",
    "systemctl status mysql\n",
    "\n",
    "```\n",
    "\n",
    "## start/stop mysql-server local - debian 12.10\n",
    "\n",
    "```bash\n",
    "cat /etc/debian_version\n",
    "# start\n",
    "systemctl start mysql\n",
    "# stop\n",
    "systemctl stop mysql\n",
    "# restart\n",
    "systemctl restart mysql\n",
    "```\n"
   ]
  },
  {
   "cell_type": "markdown",
   "metadata": {},
   "source": [
    "## ping mysql db via mysql_connector"
   ]
  },
  {
   "cell_type": "markdown",
   "metadata": {},
   "source": [
    "# python connect database - Hello World\n",
    "## [following example shows how to connect to the MySQL server](https://dev.mysql.com/doc/connector-python/en/connector-python-example-connecting.html)"
   ]
  },
  {
   "cell_type": "code",
   "execution_count": null,
   "metadata": {},
   "outputs": [],
   "source": [
    "import mysql.connector\n",
    "\n",
    "cnx = mysql.connector.connect(user='root', password='root',\n",
    "                              host='127.0.0.1',\n",
    "                              database='mysql')\n",
    "cnx.close()"
   ]
  },
  {
   "cell_type": "markdown",
   "metadata": {},
   "source": [
    "# To handle connection errors - should display => Something is wrong with your user name or password"
   ]
  },
  {
   "cell_type": "code",
   "execution_count": null,
   "metadata": {},
   "outputs": [],
   "source": [
    "import mysql.connector\n",
    "from mysql.connector import errorcode\n",
    "\n",
    "try:\n",
    "  cnx = mysql.connector.connect(user='root',\n",
    "                               # password='root',\n",
    "                                database='mysql')\n",
    "except mysql.connector.Error as err:\n",
    "  if err.errno == errorcode.ER_ACCESS_DENIED_ERROR:\n",
    "    print(\"Something is wrong with your user name or password\")\n",
    "  elif err.errno == errorcode.ER_BAD_DB_ERROR:\n",
    "    print(\"Database does not exist\")\n",
    "  else:\n",
    "    print(err)\n",
    "else:\n",
    "  cnx.close()"
   ]
  },
  {
   "cell_type": "markdown",
   "metadata": {},
   "source": [
    "# Defining connection arguments in a dictionary and using the ** operator is another option [FROM HERE](https://dev.mysql.com/doc/connector-python/en/connector-python-example-connecting.html)\n",
    "\n"
   ]
  },
  {
   "cell_type": "markdown",
   "metadata": {},
   "source": [
    "* the user trapapa is the test db user w/o privileges"
   ]
  },
  {
   "cell_type": "code",
   "execution_count": null,
   "metadata": {},
   "outputs": [],
   "source": [
    "import mysql.connector\n",
    "\n",
    "config = {\n",
    "  'user': 'trapapa',\n",
    "  'password': 'trapapa',\n",
    "  'host': '127.0.0.1',\n",
    "  'database': 'portfolio',\n",
    "  'raise_on_warnings': True\n",
    "}\n",
    "\n",
    "cnx = mysql.connector.connect(**config)\n",
    "\n",
    "cnx.close()"
   ]
  },
  {
   "cell_type": "markdown",
   "metadata": {},
   "source": [
    "# list all databases\n",
    "show databases;"
   ]
  },
  {
   "cell_type": "markdown",
   "metadata": {},
   "source": [
    "# switch to another database\n",
    "use mysql;"
   ]
  },
  {
   "cell_type": "markdown",
   "metadata": {},
   "source": [
    "# mysql list table of databases\n",
    "\n",
    "show tables;"
   ]
  },
  {
   "cell_type": "markdown",
   "metadata": {},
   "source": [
    "# [more complex example](https://dev.mysql.com/doc/connector-python/en/connector-python-example-connecting.html)"
   ]
  },
  {
   "cell_type": "code",
   "execution_count": 19,
   "metadata": {},
   "outputs": [
    {
     "name": "stdout",
     "output_type": "stream",
     "text": [
      "('mysql.infoschema', 'localhost')\n",
      "('mysql.session', 'localhost')\n",
      "('mysql.sys', 'localhost')\n",
      "('root', 'localhost')\n",
      "('trapapa', 'localhost')\n"
     ]
    }
   ],
   "source": [
    "import logging\n",
    "import time\n",
    "import mysql.connector\n",
    "\n",
    "# Set up logger\n",
    "logger = logging.getLogger(__name__)\n",
    "logger.setLevel(logging.INFO)\n",
    "formatter = logging.Formatter(\"%(asctime)s - %(name)s - %(levelname)s - %(message)s\")\n",
    "\n",
    "# Log to console\n",
    "handler = logging.StreamHandler()\n",
    "handler.setFormatter(formatter)\n",
    "logger.addHandler(handler)\n",
    "\n",
    "# Also log to a file\n",
    "file_handler = logging.FileHandler(\"cpy-errors.log\")\n",
    "file_handler.setFormatter(formatter)\n",
    "logger.addHandler(file_handler) \n",
    "\n",
    "def connect_to_mysql(config, attempts=3, delay=2):\n",
    "    attempt = 1\n",
    "    # Implement a reconnection routine\n",
    "    while attempt < attempts + 1:\n",
    "        try:\n",
    "            return mysql.connector.connect(**config)\n",
    "        except (mysql.connector.Error, IOError) as err:\n",
    "            if (attempts is attempt):\n",
    "                # Attempts to reconnect failed; returning None\n",
    "                logger.info(\"Failed to connect, exiting without a connection: %s\", err)\n",
    "                return None\n",
    "            logger.info(\n",
    "                \"Connection failed: %s. Retrying (%d/%d)...\",\n",
    "                err,\n",
    "                attempt,\n",
    "                attempts-1,\n",
    "            )\n",
    "            # progressive reconnect delay\n",
    "            time.sleep(delay ** attempt)\n",
    "            attempt += 1\n",
    "    return None\n",
    "\n",
    "\n",
    "# from myconnection import connect_to_mysql\n",
    "\n",
    "config = {\n",
    "  'user': 'root',\n",
    "  'password': 'root',\n",
    "  'host': '127.0.0.1',\n",
    "  'database': 'mysql',\n",
    "  'raise_on_warnings': True\n",
    "}\n",
    "cnx = connect_to_mysql(config, attempts=3)\n",
    "\n",
    "if cnx and cnx.is_connected():\n",
    "\n",
    "    with cnx.cursor() as cursor:\n",
    "\n",
    "        result = cursor.execute(\"SELECT User,Host FROM user;\")\n",
    "\n",
    "        rows = cursor.fetchall()\n",
    "\n",
    "        for rows in rows:\n",
    "\n",
    "            print(rows)\n",
    "\n",
    "    cnx.close()\n",
    "\n",
    "else:\n",
    "\n",
    "    print(\"Could not connect\")\n"
   ]
  },
  {
   "cell_type": "markdown",
   "metadata": {},
   "source": [
    "# create new databases"
   ]
  },
  {
   "cell_type": "code",
   "execution_count": 20,
   "metadata": {},
   "outputs": [],
   "source": [
    "import logging\n",
    "import time\n",
    "import mysql.connector\n",
    "\n",
    "# Set up logger\n",
    "logger = logging.getLogger(__name__)\n",
    "logger.setLevel(logging.INFO)\n",
    "formatter = logging.Formatter(\"%(asctime)s - %(name)s - %(levelname)s - %(message)s\")\n",
    "\n",
    "# Log to console\n",
    "handler = logging.StreamHandler()\n",
    "handler.setFormatter(formatter)\n",
    "logger.addHandler(handler)\n",
    "\n",
    "# Also log to a file\n",
    "file_handler = logging.FileHandler(\"cpy-errors.log\")\n",
    "file_handler.setFormatter(formatter)\n",
    "logger.addHandler(file_handler) \n",
    "\n",
    "def connect_to_mysql(config, attempts=3, delay=2):\n",
    "    attempt = 1\n",
    "    # Implement a reconnection routine\n",
    "    while attempt < attempts + 1:\n",
    "        try:\n",
    "            return mysql.connector.connect(**config)\n",
    "        except (mysql.connector.Error, IOError) as err:\n",
    "            if (attempts is attempt):\n",
    "                # Attempts to reconnect failed; returning None\n",
    "                logger.info(\"Failed to connect, exiting without a connection: %s\", err)\n",
    "                return None\n",
    "            logger.info(\n",
    "                \"Connection failed: %s. Retrying (%d/%d)...\",\n",
    "                err,\n",
    "                attempt,\n",
    "                attempts-1,\n",
    "            )\n",
    "            # progressive reconnect delay\n",
    "            time.sleep(delay ** attempt)\n",
    "            attempt += 1\n",
    "    return None\n",
    "\n",
    "\n",
    "# from myconnection import connect_to_mysql\n",
    "\n",
    "config = {\n",
    "  'user': 'root',\n",
    "  'password': 'root',\n",
    "  'host': '127.0.0.1',\n",
    "  'database': 'mysql',\n",
    "  'raise_on_warnings': True\n",
    "}\n",
    "cnx = connect_to_mysql(config, attempts=3)\n",
    "\n",
    "if cnx and cnx.is_connected():\n",
    "\n",
    "    with cnx.cursor() as cursor:\n",
    "\n",
    "        cnx.close()\n",
    "\n",
    "else:\n",
    "\n",
    "    print(\"Could not connect\")"
   ]
  },
  {
   "cell_type": "code",
   "execution_count": 17,
   "metadata": {},
   "outputs": [
    {
     "name": "stdout",
     "output_type": "stream",
     "text": [
      "Database employees does not exists.\n",
      "2055: Cursor is not connected\n"
     ]
    }
   ],
   "source": [
    "DB_NAME = 'employees'\n",
    "\n",
    "def create_database(cursor):\n",
    "    try:\n",
    "        cursor.execute(\n",
    "            \"CREATE DATABASE {} DEFAULT CHARACTER SET 'utf8'\".format(DB_NAME))\n",
    "    except mysql.connector.Error as err:\n",
    "        print(\"Failed creating database: {}\".format(err))\n",
    "        exit(1)\n",
    "\n",
    "try:\n",
    "    cursor.execute(\"USE {}\".format(DB_NAME))\n",
    "except mysql.connector.Error as err:\n",
    "    print(\"Database {} does not exists.\".format(DB_NAME))\n",
    "    if err.errno == errorcode.ER_BAD_DB_ERROR:\n",
    "        create_database(cursor)\n",
    "        print(\"Database {} created successfully.\".format(DB_NAME))\n",
    "        cnx.database = DB_NAME\n",
    "    else:\n",
    "        print(err)\n",
    "        exit(1)"
   ]
  },
  {
   "cell_type": "markdown",
   "metadata": {},
   "source": [
    "# create new table "
   ]
  },
  {
   "cell_type": "markdown",
   "metadata": {},
   "source": [
    "# insert new roe in table"
   ]
  }
 ],
 "metadata": {
  "kernelspec": {
   "display_name": ".venv",
   "language": "python",
   "name": "python3"
  },
  "language_info": {
   "codemirror_mode": {
    "name": "ipython",
    "version": 3
   },
   "file_extension": ".py",
   "mimetype": "text/x-python",
   "name": "python",
   "nbconvert_exporter": "python",
   "pygments_lexer": "ipython3",
   "version": "3.11.2"
  }
 },
 "nbformat": 4,
 "nbformat_minor": 2
}
